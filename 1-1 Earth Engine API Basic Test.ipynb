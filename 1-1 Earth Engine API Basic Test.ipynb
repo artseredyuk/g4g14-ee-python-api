{
 "metadata": {
  "name": "",
  "signature": "sha256:61652a6c8442a6f72ffb5f214e658ff37220a695522414a0e41a6ba8da247ae5"
 },
 "nbformat": 3,
 "nbformat_minor": 0,
 "worksheets": [
  {
   "cells": [
    {
     "cell_type": "heading",
     "level": 1,
     "metadata": {},
     "source": [
      "Initialize Earth Engine."
     ]
    },
    {
     "cell_type": "code",
     "collapsed": false,
     "input": [
      "import ee\n",
      "\n",
      "# Initialize the Earth Engine object, using authentication credentials\n",
      "# that are saved on the server.\n",
      "ee.Initialize()"
     ],
     "language": "python",
     "metadata": {},
     "outputs": []
    },
    {
     "cell_type": "heading",
     "level": 1,
     "metadata": {},
     "source": [
      "Image objects"
     ]
    },
    {
     "cell_type": "markdown",
     "metadata": {},
     "source": [
      "Display a list of methods for Earth Engine Image objects."
     ]
    },
    {
     "cell_type": "code",
     "collapsed": false,
     "input": [
      "image_object = ee.Image()\n",
      "[method for method in dir(image_object) if not method.startswith('_')]"
     ],
     "language": "python",
     "metadata": {},
     "outputs": []
    },
    {
     "cell_type": "code",
     "collapsed": false,
     "input": [
      "image = ee.Image('srtm90_v4')"
     ],
     "language": "python",
     "metadata": {},
     "outputs": []
    },
    {
     "cell_type": "markdown",
     "metadata": {},
     "source": [
      "Display an Earth Engine generated image, using IPython's ability to render an image obtained from a URL."
     ]
    },
    {
     "cell_type": "code",
     "collapsed": false,
     "input": [
      "from IPython.display import Image\n",
      "Image(url=image.getThumbUrl({'min':0, 'max':3000}))"
     ],
     "language": "python",
     "metadata": {},
     "outputs": []
    },
    {
     "cell_type": "code",
     "collapsed": false,
     "input": [],
     "language": "python",
     "metadata": {},
     "outputs": []
    }
   ],
   "metadata": {}
  }
 ]
}