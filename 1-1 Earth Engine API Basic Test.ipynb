{
 "metadata": {
  "name": "",
  "signature": "sha256:7598822d0bb21b683d6d7184770d78be14341c438fa86dcd4c504c5d9a938113"
 },
 "nbformat": 3,
 "nbformat_minor": 0,
 "worksheets": [
  {
   "cells": [
    {
     "cell_type": "heading",
     "level": 1,
     "metadata": {},
     "source": [
      "Initialize Earth Engine."
     ]
    },
    {
     "cell_type": "code",
     "collapsed": false,
     "input": [
      "# Load code to setup authorization for an IPython Notebook. Note that this is a temporary step\n",
      "# that is required until the Earth Engine Python API is updated to include this logic.\n",
      "%run 'authorize_earth_engine_in_notebook.ipynb'\n",
      "\n",
      "# Initialize Earth Engine\n",
      "# Note that we are calling a function defined in the previously run IPython Notebook, rather than\n",
      "# the typical call to ee.Initialize()\n",
      "ee_initialize()"
     ],
     "language": "python",
     "metadata": {},
     "outputs": []
    },
    {
     "cell_type": "heading",
     "level": 1,
     "metadata": {},
     "source": [
      "Image objects"
     ]
    },
    {
     "cell_type": "markdown",
     "metadata": {},
     "source": [
      "Display a list of methods for Earth Engine Image objects."
     ]
    },
    {
     "cell_type": "code",
     "collapsed": false,
     "input": [
      "image_object = ee.Image()\n",
      "[method for method in dir(image_object) if not method.startswith('_')]"
     ],
     "language": "python",
     "metadata": {},
     "outputs": []
    },
    {
     "cell_type": "code",
     "collapsed": false,
     "input": [
      "image = ee.Image('srtm90_v4')"
     ],
     "language": "python",
     "metadata": {},
     "outputs": []
    },
    {
     "cell_type": "markdown",
     "metadata": {},
     "source": [
      "Display an Earth Engine generated image, using IPython's ability to render an image obtained from a URL."
     ]
    },
    {
     "cell_type": "code",
     "collapsed": false,
     "input": [
      "from IPython.display import Image\n",
      "Image(url=image.getThumbUrl({'min':0, 'max':3000}))"
     ],
     "language": "python",
     "metadata": {},
     "outputs": []
    },
    {
     "cell_type": "code",
     "collapsed": false,
     "input": [],
     "language": "python",
     "metadata": {},
     "outputs": []
    },
    {
     "cell_type": "code",
     "collapsed": false,
     "input": [],
     "language": "python",
     "metadata": {},
     "outputs": []
    }
   ],
   "metadata": {}
  }
 ]
}