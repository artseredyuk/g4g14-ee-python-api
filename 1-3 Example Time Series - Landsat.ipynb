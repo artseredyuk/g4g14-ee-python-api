{
 "metadata": {
  "name": "",
  "signature": "sha256:ce248197f1a5ec5ae8ea6c424066178c91d51bd6ef97ddd6bcaa58fff5a448f7"
 },
 "nbformat": 3,
 "nbformat_minor": 0,
 "worksheets": [
  {
   "cells": [
    {
     "cell_type": "code",
     "collapsed": false,
     "input": [
      "%matplotlib inline"
     ],
     "language": "python",
     "metadata": {},
     "outputs": [],
     "prompt_number": 1
    },
    {
     "cell_type": "markdown",
     "metadata": {},
     "source": [
      "We start by initializing the Earth Engine API."
     ]
    },
    {
     "cell_type": "code",
     "collapsed": false,
     "input": [
      "import ee\n",
      "\n",
      "# Initialize the Earth Engine object, using authentication credentials\n",
      "# that are saved on the server.\n",
      "ee.Initialize()"
     ],
     "language": "python",
     "metadata": {},
     "outputs": [],
     "prompt_number": 2
    },
    {
     "cell_type": "markdown",
     "metadata": {},
     "source": [
      "Then we import in other Python packages we need."
     ]
    },
    {
     "cell_type": "code",
     "collapsed": false,
     "input": [
      "import datetime\n",
      "from matplotlib import dates\n",
      "import matplotlib.dates as mdates\n",
      "from pylab import *"
     ],
     "language": "python",
     "metadata": {},
     "outputs": [],
     "prompt_number": 3
    },
    {
     "cell_type": "markdown",
     "metadata": {},
     "source": [
      "Next we define the Landsat bands that we would like to plot, along with the starting and ending times."
     ]
    },
    {
     "cell_type": "code",
     "collapsed": false,
     "input": [
      "xBand = 'time'\n",
      "yBandList = [\n",
      "        '10',\n",
      "        u'20',\n",
      "        u'30',\n",
      "        u'40',\n",
      "        u'50',\n",
      "        u'61',\n",
      "        u'62',\n",
      "        u'70',\n",
      "        u'80',\n",
      "    ]\n",
      "startTime = datetime.datetime(2000, 1, 1)\n",
      "endTime = datetime.datetime(2004, 1, 1)"
     ],
     "language": "python",
     "metadata": {},
     "outputs": [],
     "prompt_number": 4
    },
    {
     "cell_type": "markdown",
     "metadata": {},
     "source": [
      "Next we contruct a filtered ImageCollection for the date range, and extract band information for a specified point location."
     ]
    },
    {
     "cell_type": "code",
     "collapsed": false,
     "input": [
      "collection = ee.ImageCollection('L7_L1T').filterDate(startTime, endTime)\n",
      "point = {'type':'Point', 'coordinates':[ -116.88629,36.56122]};  # death valley (should be stable)\n",
      "info = collection.getRegion(point,500).getInfo()"
     ],
     "language": "python",
     "metadata": {},
     "outputs": [],
     "prompt_number": 5
    },
    {
     "cell_type": "markdown",
     "metadata": {},
     "source": [
      "We separate the information returned into column headers and data."
     ]
    },
    {
     "cell_type": "code",
     "collapsed": false,
     "input": [
      "# extract the header column names\n",
      "header = info[0]\n",
      "# create a Numpy array of the data\n",
      "data = array(info[1:])"
     ],
     "language": "python",
     "metadata": {},
     "outputs": [],
     "prompt_number": 6
    },
    {
     "cell_type": "markdown",
     "metadata": {},
     "source": [
      "Next we extract time information and convert it to at Python datatime data type."
     ]
    },
    {
     "cell_type": "code",
     "collapsed": false,
     "input": [
      "# extract the time information\n",
      "iTime = header.index('time')\n",
      "# convert to Python datetime objects\n",
      "time = [datetime.datetime.fromtimestamp(i/1000) for i in (data[0:,iTime].astype(int))]"
     ],
     "language": "python",
     "metadata": {},
     "outputs": [],
     "prompt_number": 7
    },
    {
     "cell_type": "markdown",
     "metadata": {},
     "source": [
      "Extract the data columns what we want to display on the plot."
     ]
    },
    {
     "cell_type": "code",
     "collapsed": false,
     "input": [
      "iBands = [header.index(b) for b in yBandList]\n",
      "yData = data[0:,iBands].astype(np.float)"
     ],
     "language": "python",
     "metadata": {},
     "outputs": [],
     "prompt_number": 8
    },
    {
     "cell_type": "markdown",
     "metadata": {},
     "source": [
      "Calculate NDVI"
     ]
    },
    {
     "cell_type": "code",
     "collapsed": false,
     "input": [
      "band3 = yData[:,2]\n",
      "band4 = yData[:,3]\n",
      "ndvi = (band4 - band3) / (band4 + band3)"
     ],
     "language": "python",
     "metadata": {},
     "outputs": [],
     "prompt_number": 9
    },
    {
     "cell_type": "markdown",
     "metadata": {},
     "source": [
      "And finally, we create a plot of MODIS band values as a function of time."
     ]
    },
    {
     "cell_type": "code",
     "collapsed": false,
     "input": [
      "# matplotlib date format object\n",
      "\n",
      "fig = figure(figsize=(12,8), dpi=80)\n",
      "\n",
      "# plot the band values\n",
      "ax1 = fig.add_subplot(211)\n",
      "ax1.plot(time, yData[:,2], 'o', color=\"red\", label=\"Band 3\")\n",
      "ax1.plot(time, yData[:,3], 'o', color=\"magenta\",  label=\"Band 4\")\n",
      "ax1.legend(loc='best')\n",
      "ax1.grid(True)\n",
      "\n",
      "#plt.title('Band values as a function of time')\n",
      "ax1.set_ylabel('Band Values')\n",
      "\n",
      "# plot NDVI\n",
      "ax2 = fig.add_subplot(212, sharex=ax1)\n",
      "ax2.plot(time, ndvi, 'o', color=\"black\", label=\"NDVI\")\n",
      "ax2.grid(True)\n",
      "start, end = ax2.get_xlim()\n",
      "ax2.xaxis.set_ticks(np.arange(start, end, 64.5))\n",
      "\n",
      "# Format the ticks.\n",
      "years    = mdates.YearLocator()   # every year\n",
      "months   = mdates.MonthLocator()  # every month\n",
      "yearsFmt = mdates.DateFormatter('%Y')\n",
      "\n",
      "ax2.set_ylabel('NDVI')\n",
      "\n",
      "ax2.xaxis.set_major_locator(years)\n",
      "ax2.xaxis.set_major_formatter(yearsFmt)\n",
      "ax2.xaxis.set_minor_locator(months)"
     ],
     "language": "python",
     "metadata": {},
     "outputs": [
      {
       "metadata": {},
       "output_type": "display_data",
       "png": "[encoded data removed]",
       "text": [
        "<matplotlib.figure.Figure at 0x1094925d0>"
       ]
      }
     ],
     "prompt_number": 10
    },
    {
     "cell_type": "code",
     "collapsed": false,
     "input": [
      "# Convert the timestamp to a numpy array\n",
      "t = np.array([i.toordinal() for i in time])\n",
      "t"
     ],
     "language": "python",
     "metadata": {},
     "outputs": [
      {
       "metadata": {},
       "output_type": "pyout",
       "prompt_number": 11,
       "text": [
        "array([730122, 730138, 730154, 730186, 730202, 730218, 730234, 730250,\n",
        "       730266, 730282, 730298, 730314, 730330, 730330, 730346, 730346,\n",
        "       730362, 730378, 730378, 730394, 730410, 730426, 730442, 730458,\n",
        "       730474, 730490, 730506, 730522, 730538, 730554, 730570, 730586,\n",
        "       730602, 730618, 730634, 730650, 730666, 730682, 730698, 730714,\n",
        "       730730, 730746, 730762, 730778, 730794, 730810, 730826, 730842,\n",
        "       730858, 730874, 730890, 730906, 730922, 730938, 730954, 730970,\n",
        "       730986, 731002, 731018, 731034, 731050, 731066, 731082, 731098,\n",
        "       731114, 731130, 731146, 731162, 731178, 731194, 731210, 731226,\n",
        "       731242, 731274, 731290, 731306, 731322, 731338, 731354, 731418,\n",
        "       731434, 731450, 731482, 731498, 731514, 731530, 731546, 731562,\n",
        "       731578, 730129, 730145, 730161, 730177, 730193, 730209, 730225,\n",
        "       730241, 730257, 730273, 730289, 730305, 730305, 730321, 730337,\n",
        "       730353, 730369, 730385, 730401, 730417, 730433, 730449, 730465,\n",
        "       730481, 730497, 730513, 730545, 730561, 730577, 730593, 730609,\n",
        "       730625, 730641, 730657, 730673, 730689, 730705, 730721, 730737,\n",
        "       730753, 730769, 730785, 730801, 730833, 730849, 730865, 730881,\n",
        "       730897, 730913, 730929, 730945, 730961, 730977, 730993, 731009,\n",
        "       731025, 731041, 731057, 731073, 731089, 731105, 731121, 731137,\n",
        "       731153, 731169, 731185, 731201, 731217, 731233, 731249, 731265,\n",
        "       731281, 731297, 731313, 731329, 731345, 731361, 731425, 731441,\n",
        "       731457, 731489, 731505, 731521, 731537, 731553, 731569, 730129,\n",
        "       730129, 730145, 730161, 730177, 730193, 730209, 730225, 730241,\n",
        "       730241, 730257, 730273, 730289, 730305, 730305, 730321, 730337,\n",
        "       730353, 730369, 730385, 730401, 730417, 730433, 730449, 730465,\n",
        "       730481, 730497, 730513, 730529, 730545, 730561, 730577, 730593,\n",
        "       730609, 730625, 730641, 730657, 730673, 730689, 730689, 730705,\n",
        "       730721, 730737, 730753, 730769, 730785, 730801, 730817, 730833,\n",
        "       730849, 730865, 730881, 730897, 730913, 730929, 730945, 730961,\n",
        "       730977, 730993, 731009, 731025, 731041, 731057, 731073, 731089,\n",
        "       731105, 731121, 731137, 731153, 731169, 731185, 731201, 731217,\n",
        "       731233, 731249, 731265, 731281, 731297, 731313, 731329, 731345,\n",
        "       731361, 731425, 731441, 731457, 731489, 731505, 731521, 731537,\n",
        "       731553, 731569])"
       ]
      }
     ],
     "prompt_number": 11
    },
    {
     "cell_type": "markdown",
     "metadata": {},
     "source": [
      "$$\n",
      "\\begin{bmatrix}\n",
      "t_1 & 1 \\\\\\\n",
      "t_2 & 1 \\\\\\\n",
      "\\vdots & \\vdots \\\\\\\n",
      "t_n & 1\n",
      "\\end{bmatrix}\n",
      "\\begin{bmatrix}\n",
      "x_0 \\\\\\\n",
      "x_1 \n",
      "\\end{bmatrix}=\n",
      "\\begin{bmatrix}\n",
      "y_1 \\\\\\\n",
      "y_2 \\\\\\\n",
      "\\vdots \\\\\\\n",
      "y_n\n",
      "\\end{bmatrix}\n",
      "$$\n",
      "\n",
      "$$ \\mathbf{A}\\mathbf{x} = \\mathbf{b} $$\n",
      "\n",
      "$$ \\mathbf{x} = \\mathbf{A} \\backslash \\mathbf{b} $$"
     ]
    },
    {
     "cell_type": "code",
     "collapsed": false,
     "input": [
      "A = array([ t, ones(len(t))]).transpose()\n",
      "b = ndvi\n",
      "x = linalg.lstsq(A,b)[0] # obtaining the parameters\n",
      "x"
     ],
     "language": "python",
     "metadata": {},
     "outputs": [
      {
       "metadata": {},
       "output_type": "pyout",
       "prompt_number": 12,
       "text": [
        "array([  4.41168565e-05,  -3.24357492e+01])"
       ]
      }
     ],
     "prompt_number": 12
    },
    {
     "cell_type": "code",
     "collapsed": false,
     "input": [
      "b_hat = A.dot(x)"
     ],
     "language": "python",
     "metadata": {},
     "outputs": [],
     "prompt_number": 13
    },
    {
     "cell_type": "code",
     "collapsed": false,
     "input": [
      "fig2 = figure(figsize=(12,4), dpi=80)\n",
      "plot(time,b_hat.transpose(),'r-',t,b,'o')\n",
      "fig2.fmt_xdata = mdates.DateFormatter('%Y-%m-%d')\n",
      "fig2.autofmt_xdate()"
     ],
     "language": "python",
     "metadata": {},
     "outputs": [
      {
       "metadata": {},
       "output_type": "display_data",
       "png": "[encoded data removed]",
       "text": [
        "<matplotlib.figure.Figure at 0x1096a0d10>"
       ]
      }
     ],
     "prompt_number": 14
    },
    {
     "cell_type": "code",
     "collapsed": false,
     "input": [],
     "language": "python",
     "metadata": {},
     "outputs": [],
     "prompt_number": 14
    }
   ],
   "metadata": {}
  }
 ]
}