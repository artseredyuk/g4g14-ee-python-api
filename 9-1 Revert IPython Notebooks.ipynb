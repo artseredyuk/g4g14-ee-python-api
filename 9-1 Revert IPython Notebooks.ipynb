{
 "metadata": {
  "name": "",
  "signature": "sha256:501941d484ef875d042fcf3eec9a7a9db766bcf2398e83b41d7fd6aaa8a76a33"
 },
 "nbformat": 3,
 "nbformat_minor": 0,
 "worksheets": [
  {
   "cells": [
    {
     "cell_type": "code",
     "collapsed": false,
     "input": [
      "!git checkout ."
     ],
     "language": "python",
     "metadata": {},
     "outputs": []
    }
   ],
   "metadata": {}
  }
 ]
}