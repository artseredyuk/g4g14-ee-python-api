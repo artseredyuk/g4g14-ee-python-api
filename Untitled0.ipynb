{
 "metadata": {
  "name": "",
  "signature": "sha256:dce512027ef15a4d70593d5aa7893f8056fba937c9b987e5143800226c76c242"
 },
 "nbformat": 3,
 "nbformat_minor": 0,
 "worksheets": [
  {
   "cells": [
    {
     "cell_type": "code",
     "collapsed": false,
     "input": [
      "!pwd"
     ],
     "language": "python",
     "metadata": {},
     "outputs": [
      {
       "output_type": "stream",
       "stream": "stdout",
       "text": [
        "/Users/tylere/projects/g4g14-ee-python-api\r\n"
       ]
      }
     ],
     "prompt_number": 1
    },
    {
     "cell_type": "code",
     "collapsed": false,
     "input": [],
     "language": "python",
     "metadata": {},
     "outputs": []
    }
   ],
   "metadata": {}
  }
 ]
}